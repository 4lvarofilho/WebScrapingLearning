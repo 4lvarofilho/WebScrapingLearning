{
 "cells": [
  {
   "cell_type": "markdown",
   "metadata": {},
   "source": [
    "<h1>Introdução a Web Scraping</h1>"
   ]
  },
  {
   "cell_type": "markdown",
   "metadata": {},
   "source": [
    "<p>Importação de bibliotecas necessárias (instalar usando pip install -r requirements.txt)</p>"
   ]
  },
  {
   "cell_type": "code",
   "execution_count": 41,
   "metadata": {},
   "outputs": [],
   "source": [
    "import requests as req\n",
    "from bs4 import BeautifulSoup\n",
    "import pandas as pd\n",
    "import numpy as np"
   ]
  },
  {
   "cell_type": "markdown",
   "metadata": {},
   "source": [
    "<p>Esse é o URL que usarei como base para a raspagem dos dados, é um site feito exclusivamente para praticar web scraping</p>"
   ]
  },
  {
   "cell_type": "code",
   "execution_count": 31,
   "metadata": {},
   "outputs": [],
   "source": [
    "url = 'http://books.toscrape.com/catalogue/page-{}.html'\n",
    "response = req.get(url.format(1))"
   ]
  },
  {
   "cell_type": "markdown",
   "metadata": {},
   "source": [
    "<p>Inicialização da biblioteca BeautifulSoup com transformação do url em HTML</p>"
   ]
  },
  {
   "cell_type": "code",
   "execution_count": 32,
   "metadata": {},
   "outputs": [],
   "source": [
    "soup = BeautifulSoup(response.text, 'html.parser')"
   ]
  },
  {
   "cell_type": "markdown",
   "metadata": {},
   "source": [
    "<p>Inserção da class referente aos livros numa variável</p>"
   ]
  },
  {
   "cell_type": "code",
   "execution_count": 33,
   "metadata": {},
   "outputs": [
    {
     "data": {
      "text/plain": [
       "20"
      ]
     },
     "execution_count": 33,
     "metadata": {},
     "output_type": "execute_result"
    }
   ],
   "source": [
    "books = soup.select('.product_pod')\n",
    "len(books)"
   ]
  },
  {
   "cell_type": "markdown",
   "metadata": {},
   "source": [
    "Exemplo de estrutura HTML para cada livro na página"
   ]
  },
  {
   "cell_type": "code",
   "execution_count": 34,
   "metadata": {},
   "outputs": [
    {
     "name": "stdout",
     "output_type": "stream",
     "text": [
      "<article class=\"product_pod\">\n",
      " <div class=\"image_container\">\n",
      "  <a href=\"a-light-in-the-attic_1000/index.html\">\n",
      "   <img alt=\"A Light in the Attic\" class=\"thumbnail\" src=\"../media/cache/2c/da/2cdad67c44b002e7ead0cc35693c0e8b.jpg\"/>\n",
      "  </a>\n",
      " </div>\n",
      " <p class=\"star-rating Three\">\n",
      "  <i class=\"icon-star\">\n",
      "  </i>\n",
      "  <i class=\"icon-star\">\n",
      "  </i>\n",
      "  <i class=\"icon-star\">\n",
      "  </i>\n",
      "  <i class=\"icon-star\">\n",
      "  </i>\n",
      "  <i class=\"icon-star\">\n",
      "  </i>\n",
      " </p>\n",
      " <h3>\n",
      "  <a href=\"a-light-in-the-attic_1000/index.html\" title=\"A Light in the Attic\">\n",
      "   A Light in the ...\n",
      "  </a>\n",
      " </h3>\n",
      " <div class=\"product_price\">\n",
      "  <p class=\"price_color\">\n",
      "   Â£51.77\n",
      "  </p>\n",
      "  <p class=\"instock availability\">\n",
      "   <i class=\"icon-ok\">\n",
      "   </i>\n",
      "   In stock\n",
      "  </p>\n",
      "  <form>\n",
      "   <button class=\"btn btn-primary btn-block\" data-loading-text=\"Adding...\" type=\"submit\">\n",
      "    Add to basket\n",
      "   </button>\n",
      "  </form>\n",
      " </div>\n",
      "</article>\n",
      "\n"
     ]
    }
   ],
   "source": [
    "first_book = books[0]\n",
    "\n",
    "print(first_book.prettify())"
   ]
  },
  {
   "cell_type": "markdown",
   "metadata": {},
   "source": [
    "Estrutura da classe de avaliação de três estrelas"
   ]
  },
  {
   "cell_type": "code",
   "execution_count": 35,
   "metadata": {},
   "outputs": [
    {
     "data": {
      "text/plain": [
       "[<p class=\"star-rating Three\">\n",
       " <i class=\"icon-star\"></i>\n",
       " <i class=\"icon-star\"></i>\n",
       " <i class=\"icon-star\"></i>\n",
       " <i class=\"icon-star\"></i>\n",
       " <i class=\"icon-star\"></i>\n",
       " </p>]"
      ]
     },
     "execution_count": 35,
     "metadata": {},
     "output_type": "execute_result"
    }
   ],
   "source": [
    "first_book.select('.star-rating.Three')"
   ]
  },
  {
   "cell_type": "markdown",
   "metadata": {},
   "source": [
    "Caminho para receber o título do livro"
   ]
  },
  {
   "cell_type": "code",
   "execution_count": 36,
   "metadata": {},
   "outputs": [
    {
     "data": {
      "text/plain": [
       "'A Light in the Attic'"
      ]
     },
     "execution_count": 36,
     "metadata": {},
     "output_type": "execute_result"
    }
   ],
   "source": [
    "first_book.select('a')[1]['title']"
   ]
  },
  {
   "cell_type": "markdown",
   "metadata": {},
   "source": [
    "Inserção de todos os livros avaliados com três estrelas dentro de uma lista"
   ]
  },
  {
   "cell_type": "code",
   "execution_count": 39,
   "metadata": {},
   "outputs": [],
   "source": [
    "three_star_titles = []\n",
    "\n",
    "for i in range(1,51):\n",
    "    \n",
    "    scrape_url = url.format(i)\n",
    "    res = req.get(scrape_url)\n",
    "    \n",
    "    soup = BeautifulSoup(res.text,'html.parser')\n",
    "    books = soup.select(\".product_pod\")\n",
    "    \n",
    "    for book in books:\n",
    "        if len(book.select('.star-rating.Three')) != 0:\n",
    "            book_title = book.select('a')[1]['title']\n",
    "            three_star_titles.append(book_title)"
   ]
  },
  {
   "cell_type": "code",
   "execution_count": 40,
   "metadata": {},
   "outputs": [
    {
     "data": {
      "text/plain": [
       "['A Light in the Attic',\n",
       " 'The Coming Woman: A Novel Based on the Life of the Infamous Feminist, Victoria Woodhull',\n",
       " 'Our Band Could Be Your Life: Scenes from the American Indie Underground, 1981-1991',\n",
       " 'Foolproof Preserving: A Guide to Small Batch Jams, Jellies, Pickles, Condiments, and More: A Foolproof Guide to Making Small Batch Jams, Jellies, Pickles, Condiments, and More',\n",
       " 'Birdsong: A Story in Pictures',\n",
       " \"America's Cradle of Quarterbacks: Western Pennsylvania's Football Factory from Johnny Unitas to Joe Montana\",\n",
       " 'Aladdin and His Wonderful Lamp',\n",
       " 'The Five Love Languages: How to Express Heartfelt Commitment to Your Mate',\n",
       " 'Penny Maybe',\n",
       " 'Slow States of Collapse: Poems',\n",
       " 'Unicorn Tracks',\n",
       " 'Throwing Rocks at the Google Bus: How Growth Became the Enemy of Prosperity',\n",
       " 'The Natural History of Us (The Fine Art of Pretending #2)',\n",
       " 'The Murder That Never Was (Forensic Instincts #5)',\n",
       " 'The Life-Changing Magic of Tidying Up: The Japanese Art of Decluttering and Organizing',\n",
       " 'The Bulletproof Diet: Lose up to a Pound a Day, Reclaim Energy and Focus, Upgrade Your Life',\n",
       " 'The Art Forger',\n",
       " 'Saga, Volume 6 (Saga (Collected Editions) #6)',\n",
       " 'Rat Queens, Vol. 3: Demons (Rat Queens (Collected Editions) #11-15)',\n",
       " 'Patience',\n",
       " 'On a Midnight Clear',\n",
       " 'Lumberjanes, Vol. 1: Beware the Kitten Holy (Lumberjanes #1-4)',\n",
       " 'I am a Hero Omnibus Volume 1',\n",
       " 'Forever and Forever: The Courtship of Henry Longfellow and Fanny Appleton',\n",
       " 'Crown of Midnight (Throne of Glass #2)',\n",
       " 'Burning',\n",
       " 'Tracing Numbers on a Train',\n",
       " 'Throne of Glass (Throne of Glass #1)',\n",
       " 'The Mistake (Off-Campus #2)',\n",
       " \"The Bridge to Consciousness: I'm Writing the Bridge Between Science and Our Old and New Beliefs.\",\n",
       " 'The 10% Entrepreneur: Live Your Startup Dream Without Quitting Your Day Job',\n",
       " 'Shobu Samurai, Project Aryoku (#3)',\n",
       " 'Little Red',\n",
       " 'Doing It Over (Most Likely To #1)',\n",
       " 'Deliciously Ella Every Day: Quick and Easy Recipes for Gluten-Free Snacks, Packed Lunches, and Simple Meals',\n",
       " 'Daring Greatly: How the Courage to Be Vulnerable Transforms the Way We Live, Love, Parent, and Lead',\n",
       " 'Big Magic: Creative Living Beyond Fear',\n",
       " 'Amy Meets the Saints and Sages',\n",
       " 'Zealot: The Life and Times of Jesus of Nazareth',\n",
       " \"The Wedding Pact (The O'Malleys #2)\",\n",
       " 'The Power of Habit: Why We Do What We Do in Life and Business',\n",
       " 'The Literature Book (Big Ideas Simply Explained)',\n",
       " 'The Help Yourself Cookbook for Kids: 60 Easy Plant-Based Recipes Kids Can Make to Stay Healthy and Save the Earth',\n",
       " 'The First Hostage (J.B. Collins #2)',\n",
       " 'Take Me with You',\n",
       " 'Still Life with Bread Crumbs',\n",
       " 'See America: A Celebration of Our National Parks & Treasured Sites',\n",
       " 'Robin War',\n",
       " 'Rain Fish',\n",
       " 'Pet Sematary',\n",
       " 'Overload: How to Unplug, Unwind, and Unleash Yourself from the Pressure of Stress',\n",
       " 'My Mrs. Brown',\n",
       " 'Luis Paints the World',\n",
       " 'Luckiest Girl Alive',\n",
       " 'Hush, Hush (Hush, Hush #1)',\n",
       " 'Hamilton: The Revolution',\n",
       " 'Glory over Everything: Beyond The Kitchen House',\n",
       " 'Feathers: Displays of Brilliant Plumage',\n",
       " 'Every Last Word',\n",
       " 'Eligible (The Austen Project #4)',\n",
       " 'Cometh the Hour (The Clifton Chronicles #6)',\n",
       " 'Catching Jordan (Hundred Oaks)',\n",
       " 'Carry On, Warrior: Thoughts on Life Unarmed',\n",
       " 'Balloon Animals',\n",
       " 'Art Ops Vol. 1',\n",
       " 'Angels & Demons (Robert Langdon #1)',\n",
       " 'A Distant Mirror: The Calamitous 14th Century',\n",
       " '1491: New Revelations of the Americas Before Columbus',\n",
       " 'The Three Searches, Meaning, and the Story',\n",
       " \"Will You Won't You Want Me?\",\n",
       " 'The Diary of a Young Girl',\n",
       " 'The Children',\n",
       " 'Snatched: How A Drug Queen Went Undercover for the DEA and Was Kidnapped By Colombian Guerillas',\n",
       " 'Poisonous (Max Revere Novels #3)',\n",
       " 'Most Wanted',\n",
       " 'Boar Island (Anna Pigeon #19)',\n",
       " 'The Art of Startup Fundraising',\n",
       " 'Take Me Home Tonight (Rock Star Romance #3)',\n",
       " 'Playing with Fire',\n",
       " 'Off the Hook (Fishing for Trouble #1)',\n",
       " \"It Didn't Start with You: How Inherited Family Trauma Shapes Who We Are and How to End the Cycle\",\n",
       " 'Daredevils',\n",
       " 'Cravings: Recipes for What You Want to Eat',\n",
       " \"A Mother's Reckoning: Living in the Aftermath of Tragedy\",\n",
       " '11/22/63',\n",
       " 'The Book of Mormon',\n",
       " 'Dress Your Family in Corduroy and Denim',\n",
       " 'A Shard of Ice (The Black Symphony Saga #1)',\n",
       " \"A Hero's Curse (The Unseen Chronicles #1)\",\n",
       " 'Zero to One: Notes on Startups, or How to Build the Future',\n",
       " 'The New Drawing on the Right Side of the Brain',\n",
       " 'Silence in the Dark (Logan Point #4)',\n",
       " 'Rising Strong',\n",
       " \"Man's Search for Meaning\",\n",
       " 'Living Forward: A Proven Plan to Stop Drifting and Get the Life You Want',\n",
       " 'Brilliant Beacons: A History of the American Lighthouse',\n",
       " 'A Murder Over a Girl: Justice, Gender, Junior High',\n",
       " 'You Are a Badass: How to Stop Doubting Your Greatness and Start Living an Awesome Life',\n",
       " 'Under the Tuscan Sun',\n",
       " 'The Good Girl',\n",
       " 'The Drowning Girls',\n",
       " 'The Constant Princess (The Tudor Court #1)',\n",
       " 'Sit, Stay, Love',\n",
       " 'Shrunken Treasures: Literary Classics, Short, Sweet, and Silly',\n",
       " 'Meternity',\n",
       " 'Memoirs of a Geisha',\n",
       " 'For the Love: Fighting for Grace in a World of Impossible Standards',\n",
       " 'Benjamin Franklin: An American Life',\n",
       " 'The Perks of Being a Wallflower',\n",
       " 'The God Delusion',\n",
       " 'Ship Leaves Harbor: Essays on Travel by a Recovering Journeyman',\n",
       " 'Mere Christianity',\n",
       " 'Girl, Interrupted',\n",
       " 'Death Note, Vol. 6: Give-and-Take (Death Note #6)',\n",
       " 'Better Homes and Gardens New Cook Book',\n",
       " 'An Unquiet Mind: A Memoir of Moods and Madness',\n",
       " 'The Little Paris Bookshop',\n",
       " 'The Grand Design',\n",
       " 'The Firm',\n",
       " 'Tell the Wind and Fire',\n",
       " 'Remember Me?',\n",
       " 'Red Dragon (Hannibal Lecter #1)',\n",
       " 'Last One Home (New Beginnings #1)',\n",
       " 'Data, A Love Story: How I Gamed Online Dating to Meet My Match',\n",
       " 'A Clash of Kings (A Song of Ice and Fire #2)',\n",
       " 'The Shining (The Shining #1)',\n",
       " 'The Perfect Play (Play by Play #1)',\n",
       " 'The Jazz of Physics: The Secret Link Between Music and the Structure of the Universe',\n",
       " 'The Bone Hunters (Lexy Vaughan & Steven Macaulay #2)',\n",
       " 'Orchestra of Exiles: The Story of Bronislaw Huberman, the Israel Philharmonic, and the One Thousand Jews He Saved from Nazi Horrors',\n",
       " 'It',\n",
       " \"Harry Potter and the Sorcerer's Stone (Harry Potter #1)\",\n",
       " 'Gone with the Wind',\n",
       " 'Changing the Game (Play by Play #2)',\n",
       " 'Candide',\n",
       " 'Animal Farm',\n",
       " 'Wuthering Heights',\n",
       " 'Wild: From Lost to Found on the Pacific Crest Trail',\n",
       " \"We the People: The Modern-Day Figures Who Have Reshaped and Affirmed the Founding Fathers' Vision of America\",\n",
       " 'Walk the Edge (Thunder Road #2)',\n",
       " 'Very Good Lives: The Fringe Benefits of Failure and the Importance of Imagination',\n",
       " 'Three-Martini Lunch',\n",
       " 'The Wild Robot',\n",
       " 'The Wicked + The Divine, Vol. 3: Commercial Suicide (The Wicked + The Divine)',\n",
       " 'The Rise of Theodore Roosevelt (Theodore Roosevelt #1)',\n",
       " 'The Purpose Driven Life: What on Earth Am I Here for?',\n",
       " 'The Paris Wife',\n",
       " 'The New Guy (and Other Senior Year Distractions)',\n",
       " \"The Lean Startup: How Today's Entrepreneurs Use Continuous Innovation to Create Radically Successful Businesses\",\n",
       " \"The Hitchhiker's Guide to the Galaxy (Hitchhiker's Guide to the Galaxy #1)\",\n",
       " 'The Goldfinch',\n",
       " 'The Girl with All the Gifts',\n",
       " 'The Exiled',\n",
       " 'The Art of Simple Food: Notes, Lessons, and Recipes from a Delicious Revolution',\n",
       " 'Stiff: The Curious Lives of Human Cadavers',\n",
       " 'Rogue Lawyer (Rogue Lawyer #1)',\n",
       " 'Reservations for Two',\n",
       " 'Red: The True Story of Red Riding Hood',\n",
       " 'Prodigy: The Graphic Novel (Legend: The Graphic Novel #2)',\n",
       " 'Original Fake',\n",
       " 'Neither Here nor There: Travels in Europe',\n",
       " 'Naked',\n",
       " 'Lila (Gilead #3)',\n",
       " 'Is Everyone Hanging Out Without Me? (And Other Concerns)',\n",
       " \"In the Garden of Beasts: Love, Terror, and an American Family in Hitler's Berlin\",\n",
       " 'Hungry Girl Clean & Hungry: Easy All-Natural Recipes for Healthy Eating in the Real World',\n",
       " 'Friday Night Lights: A Town, a Team, and a Dream',\n",
       " 'Extreme Prey (Lucas Davenport #26)',\n",
       " 'Eragon (The Inheritance Cycle #1)',\n",
       " 'Dracula',\n",
       " 'Boy Meets Boy',\n",
       " 'Are We There Yet?',\n",
       " 'The Sense of an Ending',\n",
       " 'The Course of Love',\n",
       " 'Saga, Volume 2 (Saga (Collected Editions) #2)',\n",
       " \"Kindle Paperwhite User's Guide\",\n",
       " 'Where Lightning Strikes (Bleeding Stars #3)',\n",
       " \"When I'm Gone\",\n",
       " 'The Silent Twin (Detective Jennifer Knight #3)',\n",
       " 'The Secret Healer',\n",
       " 'The Sandman, Vol. 1: Preludes and Nocturnes (The Sandman (volumes) #1)',\n",
       " 'The Republic',\n",
       " 'The Odyssey',\n",
       " 'The Name of the Wind (The Kingkiller Chronicle #1)',\n",
       " 'The Girl In The Ice (DCI Erika Foster #1)',\n",
       " 'The Complete Maus (Maus #1-2)',\n",
       " 'The Communist Manifesto',\n",
       " 'The Bhagavad Gita',\n",
       " 'The Bette Davis Club',\n",
       " 'Starlark',\n",
       " 'Skip Beat!, Vol. 01 (Skip Beat! #1)',\n",
       " 'Sister Sable (The Mad Queen #1)',\n",
       " 'Shameless',\n",
       " 'Ouran High School Host Club, Vol. 1 (Ouran High School Host Club #1)',\n",
       " 'On the Road (Duluoz Legend)',\n",
       " 'Lord of the Flies',\n",
       " 'Listen to Me (Fusion #1)',\n",
       " 'Hawkeye, Vol. 1: My Life as a Weapon (Hawkeye #1)',\n",
       " 'Forever Rockers (The Rocker #12)',\n",
       " 'Fighting Fate (Fighting #6)',\n",
       " 'Eat, Pray, Love',\n",
       " 'Charlie and the Chocolate Factory (Charlie Bucket #1)',\n",
       " 'Blood Defense (Samantha Brinkman #1)']"
      ]
     },
     "execution_count": 40,
     "metadata": {},
     "output_type": "execute_result"
    }
   ],
   "source": [
    "three_star_titles"
   ]
  }
 ],
 "metadata": {
  "kernelspec": {
   "display_name": ".venv",
   "language": "python",
   "name": "python3"
  },
  "language_info": {
   "codemirror_mode": {
    "name": "ipython",
    "version": 3
   },
   "file_extension": ".py",
   "mimetype": "text/x-python",
   "name": "python",
   "nbconvert_exporter": "python",
   "pygments_lexer": "ipython3",
   "version": "3.11.9"
  }
 },
 "nbformat": 4,
 "nbformat_minor": 2
}
